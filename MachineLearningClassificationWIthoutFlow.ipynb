{
 "cells": [
  {
   "cell_type": "code",
   "execution_count": 1,
   "metadata": {
    "colab": {
     "base_uri": "https://localhost:8080/"
    },
    "id": "VpEA6G9GTC6G",
    "outputId": "3b1daade-0746-43e1-d020-93ed42e7c160"
   },
   "outputs": [
    {
     "name": "stdout",
     "output_type": "stream",
     "text": [
      "Looking in indexes: https://pypi.org/simple, https://us-python.pkg.dev/colab-wheels/public/simple/\n",
      "Collecting smote_variants\n",
      "  Downloading smote_variants-0.4.0-py3-none-any.whl (134 kB)\n",
      "\u001b[K     |████████████████████████████████| 134 kB 5.1 MB/s \n",
      "\u001b[?25hRequirement already satisfied: pandas in /usr/local/lib/python3.7/dist-packages (from smote_variants) (1.3.5)\n",
      "Requirement already satisfied: scipy in /usr/local/lib/python3.7/dist-packages (from smote_variants) (1.4.1)\n",
      "Requirement already satisfied: joblib in /usr/local/lib/python3.7/dist-packages (from smote_variants) (1.1.0)\n",
      "Requirement already satisfied: numpy>=1.13.0 in /usr/local/lib/python3.7/dist-packages (from smote_variants) (1.21.6)\n",
      "Collecting statistics\n",
      "  Downloading statistics-1.0.3.5.tar.gz (8.3 kB)\n",
      "Collecting minisom\n",
      "  Downloading MiniSom-2.3.0.tar.gz (8.8 kB)\n",
      "Requirement already satisfied: tensorflow in /usr/local/lib/python3.7/dist-packages (from smote_variants) (2.8.2+zzzcolab20220527125636)\n",
      "Requirement already satisfied: mkl in /usr/local/lib/python3.7/dist-packages (from smote_variants) (2019.0)\n",
      "Requirement already satisfied: keras in /usr/local/lib/python3.7/dist-packages (from smote_variants) (2.8.0)\n",
      "Requirement already satisfied: scikit-learn in /usr/local/lib/python3.7/dist-packages (from smote_variants) (1.0.2)\n",
      "Requirement already satisfied: intel-openmp in /usr/local/lib/python3.7/dist-packages (from mkl->smote_variants) (2022.1.0)\n",
      "Requirement already satisfied: python-dateutil>=2.7.3 in /usr/local/lib/python3.7/dist-packages (from pandas->smote_variants) (2.8.2)\n",
      "Requirement already satisfied: pytz>=2017.3 in /usr/local/lib/python3.7/dist-packages (from pandas->smote_variants) (2022.1)\n",
      "Requirement already satisfied: six>=1.5 in /usr/local/lib/python3.7/dist-packages (from python-dateutil>=2.7.3->pandas->smote_variants) (1.15.0)\n",
      "Requirement already satisfied: threadpoolctl>=2.0.0 in /usr/local/lib/python3.7/dist-packages (from scikit-learn->smote_variants) (3.1.0)\n",
      "Requirement already satisfied: docutils>=0.3 in /usr/local/lib/python3.7/dist-packages (from statistics->smote_variants) (0.17.1)\n",
      "Requirement already satisfied: absl-py>=0.4.0 in /usr/local/lib/python3.7/dist-packages (from tensorflow->smote_variants) (1.0.0)\n",
      "Requirement already satisfied: astunparse>=1.6.0 in /usr/local/lib/python3.7/dist-packages (from tensorflow->smote_variants) (1.6.3)\n",
      "Requirement already satisfied: setuptools in /usr/local/lib/python3.7/dist-packages (from tensorflow->smote_variants) (57.4.0)\n",
      "Requirement already satisfied: tensorflow-estimator<2.9,>=2.8 in /usr/local/lib/python3.7/dist-packages (from tensorflow->smote_variants) (2.8.0)\n",
      "Requirement already satisfied: grpcio<2.0,>=1.24.3 in /usr/local/lib/python3.7/dist-packages (from tensorflow->smote_variants) (1.46.3)\n",
      "Requirement already satisfied: flatbuffers>=1.12 in /usr/local/lib/python3.7/dist-packages (from tensorflow->smote_variants) (2.0)\n",
      "Requirement already satisfied: keras-preprocessing>=1.1.1 in /usr/local/lib/python3.7/dist-packages (from tensorflow->smote_variants) (1.1.2)\n",
      "Requirement already satisfied: google-pasta>=0.1.1 in /usr/local/lib/python3.7/dist-packages (from tensorflow->smote_variants) (0.2.0)\n",
      "Requirement already satisfied: gast>=0.2.1 in /usr/local/lib/python3.7/dist-packages (from tensorflow->smote_variants) (0.5.3)\n",
      "Requirement already satisfied: h5py>=2.9.0 in /usr/local/lib/python3.7/dist-packages (from tensorflow->smote_variants) (3.1.0)\n",
      "Requirement already satisfied: libclang>=9.0.1 in /usr/local/lib/python3.7/dist-packages (from tensorflow->smote_variants) (14.0.1)\n",
      "Requirement already satisfied: tensorflow-io-gcs-filesystem>=0.23.1 in /usr/local/lib/python3.7/dist-packages (from tensorflow->smote_variants) (0.26.0)\n",
      "Requirement already satisfied: wrapt>=1.11.0 in /usr/local/lib/python3.7/dist-packages (from tensorflow->smote_variants) (1.14.1)\n",
      "Requirement already satisfied: termcolor>=1.1.0 in /usr/local/lib/python3.7/dist-packages (from tensorflow->smote_variants) (1.1.0)\n",
      "Requirement already satisfied: opt-einsum>=2.3.2 in /usr/local/lib/python3.7/dist-packages (from tensorflow->smote_variants) (3.3.0)\n",
      "Requirement already satisfied: protobuf<3.20,>=3.9.2 in /usr/local/lib/python3.7/dist-packages (from tensorflow->smote_variants) (3.17.3)\n",
      "Requirement already satisfied: tensorboard<2.9,>=2.8 in /usr/local/lib/python3.7/dist-packages (from tensorflow->smote_variants) (2.8.0)\n",
      "Requirement already satisfied: typing-extensions>=3.6.6 in /usr/local/lib/python3.7/dist-packages (from tensorflow->smote_variants) (4.2.0)\n",
      "Requirement already satisfied: wheel<1.0,>=0.23.0 in /usr/local/lib/python3.7/dist-packages (from astunparse>=1.6.0->tensorflow->smote_variants) (0.37.1)\n",
      "Requirement already satisfied: cached-property in /usr/local/lib/python3.7/dist-packages (from h5py>=2.9.0->tensorflow->smote_variants) (1.5.2)\n",
      "Requirement already satisfied: werkzeug>=0.11.15 in /usr/local/lib/python3.7/dist-packages (from tensorboard<2.9,>=2.8->tensorflow->smote_variants) (1.0.1)\n",
      "Requirement already satisfied: markdown>=2.6.8 in /usr/local/lib/python3.7/dist-packages (from tensorboard<2.9,>=2.8->tensorflow->smote_variants) (3.3.7)\n",
      "Requirement already satisfied: tensorboard-data-server<0.7.0,>=0.6.0 in /usr/local/lib/python3.7/dist-packages (from tensorboard<2.9,>=2.8->tensorflow->smote_variants) (0.6.1)\n",
      "Requirement already satisfied: tensorboard-plugin-wit>=1.6.0 in /usr/local/lib/python3.7/dist-packages (from tensorboard<2.9,>=2.8->tensorflow->smote_variants) (1.8.1)\n",
      "Requirement already satisfied: google-auth-oauthlib<0.5,>=0.4.1 in /usr/local/lib/python3.7/dist-packages (from tensorboard<2.9,>=2.8->tensorflow->smote_variants) (0.4.6)\n",
      "Requirement already satisfied: google-auth<3,>=1.6.3 in /usr/local/lib/python3.7/dist-packages (from tensorboard<2.9,>=2.8->tensorflow->smote_variants) (1.35.0)\n",
      "Requirement already satisfied: requests<3,>=2.21.0 in /usr/local/lib/python3.7/dist-packages (from tensorboard<2.9,>=2.8->tensorflow->smote_variants) (2.23.0)\n",
      "Requirement already satisfied: cachetools<5.0,>=2.0.0 in /usr/local/lib/python3.7/dist-packages (from google-auth<3,>=1.6.3->tensorboard<2.9,>=2.8->tensorflow->smote_variants) (4.2.4)\n",
      "Requirement already satisfied: rsa<5,>=3.1.4 in /usr/local/lib/python3.7/dist-packages (from google-auth<3,>=1.6.3->tensorboard<2.9,>=2.8->tensorflow->smote_variants) (4.8)\n",
      "Requirement already satisfied: pyasn1-modules>=0.2.1 in /usr/local/lib/python3.7/dist-packages (from google-auth<3,>=1.6.3->tensorboard<2.9,>=2.8->tensorflow->smote_variants) (0.2.8)\n",
      "Requirement already satisfied: requests-oauthlib>=0.7.0 in /usr/local/lib/python3.7/dist-packages (from google-auth-oauthlib<0.5,>=0.4.1->tensorboard<2.9,>=2.8->tensorflow->smote_variants) (1.3.1)\n",
      "Requirement already satisfied: importlib-metadata>=4.4 in /usr/local/lib/python3.7/dist-packages (from markdown>=2.6.8->tensorboard<2.9,>=2.8->tensorflow->smote_variants) (4.11.4)\n",
      "Requirement already satisfied: zipp>=0.5 in /usr/local/lib/python3.7/dist-packages (from importlib-metadata>=4.4->markdown>=2.6.8->tensorboard<2.9,>=2.8->tensorflow->smote_variants) (3.8.0)\n",
      "Requirement already satisfied: pyasn1<0.5.0,>=0.4.6 in /usr/local/lib/python3.7/dist-packages (from pyasn1-modules>=0.2.1->google-auth<3,>=1.6.3->tensorboard<2.9,>=2.8->tensorflow->smote_variants) (0.4.8)\n",
      "Requirement already satisfied: certifi>=2017.4.17 in /usr/local/lib/python3.7/dist-packages (from requests<3,>=2.21.0->tensorboard<2.9,>=2.8->tensorflow->smote_variants) (2022.5.18.1)\n",
      "Requirement already satisfied: chardet<4,>=3.0.2 in /usr/local/lib/python3.7/dist-packages (from requests<3,>=2.21.0->tensorboard<2.9,>=2.8->tensorflow->smote_variants) (3.0.4)\n",
      "Requirement already satisfied: urllib3!=1.25.0,!=1.25.1,<1.26,>=1.21.1 in /usr/local/lib/python3.7/dist-packages (from requests<3,>=2.21.0->tensorboard<2.9,>=2.8->tensorflow->smote_variants) (1.24.3)\n",
      "Requirement already satisfied: idna<3,>=2.5 in /usr/local/lib/python3.7/dist-packages (from requests<3,>=2.21.0->tensorboard<2.9,>=2.8->tensorflow->smote_variants) (2.10)\n",
      "Requirement already satisfied: oauthlib>=3.0.0 in /usr/local/lib/python3.7/dist-packages (from requests-oauthlib>=0.7.0->google-auth-oauthlib<0.5,>=0.4.1->tensorboard<2.9,>=2.8->tensorflow->smote_variants) (3.2.0)\n",
      "Building wheels for collected packages: minisom, statistics\n",
      "  Building wheel for minisom (setup.py) ... \u001b[?25l\u001b[?25hdone\n",
      "  Created wheel for minisom: filename=MiniSom-2.3.0-py3-none-any.whl size=9018 sha256=0c24363c2c3d03f6a4a3bd221c52b6208f101d0fbea55ca29af6ee277b3453c1\n",
      "  Stored in directory: /root/.cache/pip/wheels/d4/ca/4a/488772b0399fec45ff53132ed14c948dec4b30deee3a532f80\n",
      "  Building wheel for statistics (setup.py) ... \u001b[?25l\u001b[?25hdone\n",
      "  Created wheel for statistics: filename=statistics-1.0.3.5-py3-none-any.whl size=7454 sha256=5d95ad5056d4a818de770d4bd13dc5384c9a76c11791116b7aa5f31bc8e5856e\n",
      "  Stored in directory: /root/.cache/pip/wheels/37/09/e1/49ee45c0ce248a6e9c986aae82d32bbcba09c9f3b9d0c3406a\n",
      "Successfully built minisom statistics\n",
      "Installing collected packages: statistics, minisom, smote-variants\n",
      "Successfully installed minisom-2.3.0 smote-variants-0.4.0 statistics-1.0.3.5\n"
     ]
    }
   ],
   "source": [
    "pip install smote_variants"
   ]
  },
  {
   "cell_type": "code",
   "execution_count": 2,
   "metadata": {
    "colab": {
     "base_uri": "https://localhost:8080/"
    },
    "id": "5orjjtdGTCxa",
    "outputId": "0ef1b2f3-f58f-48f4-cc51-1acc64411e40"
   },
   "outputs": [
    {
     "name": "stdout",
     "output_type": "stream",
     "text": [
      "Looking in indexes: https://pypi.org/simple, https://us-python.pkg.dev/colab-wheels/public/simple/\n",
      "Collecting imbalanced_databases\n",
      "  Downloading imbalanced_databases-0.1.1-py3-none-any.whl (4.3 MB)\n",
      "\u001b[K     |████████████████████████████████| 4.3 MB 5.2 MB/s \n",
      "\u001b[?25hRequirement already satisfied: numpy in /usr/local/lib/python3.7/dist-packages (from imbalanced_databases) (1.21.6)\n",
      "Requirement already satisfied: scipy in /usr/local/lib/python3.7/dist-packages (from imbalanced_databases) (1.4.1)\n",
      "Requirement already satisfied: sklearn in /usr/local/lib/python3.7/dist-packages (from imbalanced_databases) (0.0)\n",
      "Requirement already satisfied: pandas in /usr/local/lib/python3.7/dist-packages (from imbalanced_databases) (1.3.5)\n",
      "Requirement already satisfied: python-dateutil>=2.7.3 in /usr/local/lib/python3.7/dist-packages (from pandas->imbalanced_databases) (2.8.2)\n",
      "Requirement already satisfied: pytz>=2017.3 in /usr/local/lib/python3.7/dist-packages (from pandas->imbalanced_databases) (2022.1)\n",
      "Requirement already satisfied: six>=1.5 in /usr/local/lib/python3.7/dist-packages (from python-dateutil>=2.7.3->pandas->imbalanced_databases) (1.15.0)\n",
      "Requirement already satisfied: scikit-learn in /usr/local/lib/python3.7/dist-packages (from sklearn->imbalanced_databases) (1.0.2)\n",
      "Requirement already satisfied: threadpoolctl>=2.0.0 in /usr/local/lib/python3.7/dist-packages (from scikit-learn->sklearn->imbalanced_databases) (3.1.0)\n",
      "Requirement already satisfied: joblib>=0.11 in /usr/local/lib/python3.7/dist-packages (from scikit-learn->sklearn->imbalanced_databases) (1.1.0)\n",
      "Installing collected packages: imbalanced-databases\n",
      "Successfully installed imbalanced-databases-0.1.1\n"
     ]
    }
   ],
   "source": [
    "pip install imbalanced_databases"
   ]
  },
  {
   "cell_type": "code",
   "execution_count": 3,
   "metadata": {
    "colab": {
     "base_uri": "https://localhost:8080/"
    },
    "id": "HEuB13YNTCmk",
    "outputId": "3a3046ef-b350-48d8-ab67-ac5e9f926e05"
   },
   "outputs": [
    {
     "name": "stdout",
     "output_type": "stream",
     "text": [
      "Looking in indexes: https://pypi.org/simple, https://us-python.pkg.dev/colab-wheels/public/simple/\n",
      "Requirement already satisfied: imbalanced-learn in /usr/local/lib/python3.7/dist-packages (0.8.1)\n",
      "Requirement already satisfied: joblib>=0.11 in /usr/local/lib/python3.7/dist-packages (from imbalanced-learn) (1.1.0)\n",
      "Requirement already satisfied: scipy>=0.19.1 in /usr/local/lib/python3.7/dist-packages (from imbalanced-learn) (1.4.1)\n",
      "Requirement already satisfied: numpy>=1.13.3 in /usr/local/lib/python3.7/dist-packages (from imbalanced-learn) (1.21.6)\n",
      "Requirement already satisfied: scikit-learn>=0.24 in /usr/local/lib/python3.7/dist-packages (from imbalanced-learn) (1.0.2)\n",
      "Requirement already satisfied: threadpoolctl>=2.0.0 in /usr/local/lib/python3.7/dist-packages (from scikit-learn>=0.24->imbalanced-learn) (3.1.0)\n"
     ]
    }
   ],
   "source": [
    "pip install imbalanced-learn"
   ]
  },
  {
   "cell_type": "code",
   "execution_count": 4,
   "metadata": {
    "id": "JnKWN9B2LHP4"
   },
   "outputs": [],
   "source": [
    "import smote_variants as sv\n",
    "import pandas  as pd\n",
    "import matplotlib.pyplot as plt\n",
    "import numpy as np\n",
    "import imbalanced_databases as imbd\n",
    "from sklearn import metrics\n",
    "from sklearn.datasets import load_wine\n",
    "from sklearn.metrics import roc_curve, auc, roc_auc_score\n",
    "from sklearn.metrics import confusion_matrix\n",
    "from sklearn import metrics\n",
    "from sklearn.metrics import plot_roc_curve\n",
    "from imblearn.over_sampling import SMOTE\n",
    "\n",
    "%matplotlib inline\n",
    "from sklearn.model_selection import train_test_split"
   ]
  },
  {
   "cell_type": "code",
   "execution_count": 5,
   "metadata": {
    "colab": {
     "base_uri": "https://localhost:8080/"
    },
    "id": "iWnIxVhWTMM6",
    "outputId": "90e447d1-f402-4294-a67e-16f9717b9844"
   },
   "outputs": [
    {
     "name": "stdout",
     "output_type": "stream",
     "text": [
      "Mounted at /content/drive\n"
     ]
    }
   ],
   "source": [
    "from google.colab import drive\n",
    "drive.mount('/content/drive')"
   ]
  },
  {
   "cell_type": "code",
   "execution_count": 6,
   "metadata": {
    "id": "5i6xdA4nJ_Me"
   },
   "outputs": [],
   "source": [
    "df_train = pd.read_csv('/content/drive/My Drive/ml_dataset.csv')"
   ]
  },
  {
   "cell_type": "code",
   "execution_count": 7,
   "metadata": {
    "id": "rL13VhV0kb78"
   },
   "outputs": [],
   "source": [
    "df = df_train.copy()\n",
    "df.drop(['Unnamed: 0'],inplace=True,axis=1)"
   ]
  },
  {
   "cell_type": "code",
   "execution_count": 8,
   "metadata": {
    "colab": {
     "base_uri": "https://localhost:8080/"
    },
    "id": "lEIV2KpEXKWA",
    "outputId": "0e5183bb-8fef-4306-e371-028291190dff"
   },
   "outputs": [
    {
     "data": {
      "text/plain": [
       "Index(['pkts', 'bytes', 'dur', 'average_dur', 'stddev_dur', 'total_dur',\n",
       "       'min_dur', 'max_dur', 'spkts', 'dpkts', 'sbytes', 'dbytes', 'rate',\n",
       "       'srate', 'drate', 'TnBPSrcIP', 'TnBPDstIP', 'TnP_PSrcIP', 'TnP_PDstIP',\n",
       "       'TnP_PerProto', 'TnP_Per_Dport', 'AR_P_Proto_P_SrcIP',\n",
       "       'AR_P_Proto_P_DstIP', 'N_IN_Conn_P_DstIP', 'N_IN_Conn_P_SrcIP',\n",
       "       'AR_P_Proto_P_Sport', 'AR_P_Proto_P_Dport',\n",
       "       'Pkts_P_State_P_Protocol_P_DestIP', 'Pkts_P_State_P_Protocol_P_SrcIP',\n",
       "       'attack'],\n",
       "      dtype='object')"
      ]
     },
     "execution_count": 8,
     "metadata": {},
     "output_type": "execute_result"
    }
   ],
   "source": [
    "df.columns"
   ]
  },
  {
   "cell_type": "code",
   "execution_count": 9,
   "metadata": {
    "id": "b5Xjb7hKWlnu"
   },
   "outputs": [],
   "source": [
    "df.drop([ 'TnBPSrcIP', 'TnBPDstIP', 'TnP_PSrcIP', 'TnP_PDstIP',\n",
    "       'TnP_PerProto', 'TnP_Per_Dport', 'AR_P_Proto_P_SrcIP',\n",
    "       'AR_P_Proto_P_DstIP', 'N_IN_Conn_P_DstIP', 'N_IN_Conn_P_SrcIP',\n",
    "       'AR_P_Proto_P_Sport', 'AR_P_Proto_P_Dport',\n",
    "       'Pkts_P_State_P_Protocol_P_DestIP', 'Pkts_P_State_P_Protocol_P_SrcIP'],axis=1,inplace=True)"
   ]
  },
  {
   "cell_type": "code",
   "execution_count": 10,
   "metadata": {
    "colab": {
     "base_uri": "https://localhost:8080/",
     "height": 206
    },
    "id": "ILzX8RoAJ6vd",
    "outputId": "dfaba9fe-901b-4f7e-b27d-c23d5efd4cec"
   },
   "outputs": [
    {
     "data": {
      "text/html": [
       "\n",
       "  <div id=\"df-d33e13b6-5e0f-4d20-94d3-da79f9c9e07c\">\n",
       "    <div class=\"colab-df-container\">\n",
       "      <div>\n",
       "<style scoped>\n",
       "    .dataframe tbody tr th:only-of-type {\n",
       "        vertical-align: middle;\n",
       "    }\n",
       "\n",
       "    .dataframe tbody tr th {\n",
       "        vertical-align: top;\n",
       "    }\n",
       "\n",
       "    .dataframe thead th {\n",
       "        text-align: right;\n",
       "    }\n",
       "</style>\n",
       "<table border=\"1\" class=\"dataframe\">\n",
       "  <thead>\n",
       "    <tr style=\"text-align: right;\">\n",
       "      <th></th>\n",
       "      <th>pkts</th>\n",
       "      <th>bytes</th>\n",
       "      <th>dur</th>\n",
       "      <th>average_dur</th>\n",
       "      <th>stddev_dur</th>\n",
       "      <th>total_dur</th>\n",
       "      <th>min_dur</th>\n",
       "      <th>max_dur</th>\n",
       "      <th>spkts</th>\n",
       "      <th>dpkts</th>\n",
       "      <th>sbytes</th>\n",
       "      <th>dbytes</th>\n",
       "      <th>rate</th>\n",
       "      <th>srate</th>\n",
       "      <th>drate</th>\n",
       "      <th>attack</th>\n",
       "    </tr>\n",
       "  </thead>\n",
       "  <tbody>\n",
       "    <tr>\n",
       "      <th>0</th>\n",
       "      <td>10</td>\n",
       "      <td>1729</td>\n",
       "      <td>6.406424</td>\n",
       "      <td>0.679473</td>\n",
       "      <td>0.544126</td>\n",
       "      <td>1.358946</td>\n",
       "      <td>0.135347</td>\n",
       "      <td>1.223599</td>\n",
       "      <td>6</td>\n",
       "      <td>4</td>\n",
       "      <td>963</td>\n",
       "      <td>766</td>\n",
       "      <td>1.404840</td>\n",
       "      <td>0.780467</td>\n",
       "      <td>0.468280</td>\n",
       "      <td>1</td>\n",
       "    </tr>\n",
       "    <tr>\n",
       "      <th>1</th>\n",
       "      <td>10</td>\n",
       "      <td>1604</td>\n",
       "      <td>6.405851</td>\n",
       "      <td>0.679572</td>\n",
       "      <td>0.544197</td>\n",
       "      <td>1.359144</td>\n",
       "      <td>0.135375</td>\n",
       "      <td>1.223769</td>\n",
       "      <td>6</td>\n",
       "      <td>4</td>\n",
       "      <td>838</td>\n",
       "      <td>766</td>\n",
       "      <td>1.404966</td>\n",
       "      <td>0.780536</td>\n",
       "      <td>0.468322</td>\n",
       "      <td>1</td>\n",
       "    </tr>\n",
       "    <tr>\n",
       "      <th>2</th>\n",
       "      <td>8</td>\n",
       "      <td>1708</td>\n",
       "      <td>6.401038</td>\n",
       "      <td>1.110847</td>\n",
       "      <td>1.110847</td>\n",
       "      <td>2.221694</td>\n",
       "      <td>0.000000</td>\n",
       "      <td>2.221694</td>\n",
       "      <td>5</td>\n",
       "      <td>3</td>\n",
       "      <td>1008</td>\n",
       "      <td>700</td>\n",
       "      <td>1.093573</td>\n",
       "      <td>0.624899</td>\n",
       "      <td>0.900214</td>\n",
       "      <td>1</td>\n",
       "    </tr>\n",
       "    <tr>\n",
       "      <th>3</th>\n",
       "      <td>8</td>\n",
       "      <td>1462</td>\n",
       "      <td>6.400703</td>\n",
       "      <td>1.113328</td>\n",
       "      <td>1.113328</td>\n",
       "      <td>2.226655</td>\n",
       "      <td>0.000000</td>\n",
       "      <td>2.226655</td>\n",
       "      <td>5</td>\n",
       "      <td>3</td>\n",
       "      <td>762</td>\n",
       "      <td>700</td>\n",
       "      <td>1.093630</td>\n",
       "      <td>0.624931</td>\n",
       "      <td>0.898208</td>\n",
       "      <td>1</td>\n",
       "    </tr>\n",
       "    <tr>\n",
       "      <th>4</th>\n",
       "      <td>8</td>\n",
       "      <td>1296</td>\n",
       "      <td>6.400472</td>\n",
       "      <td>1.113098</td>\n",
       "      <td>1.113098</td>\n",
       "      <td>2.226195</td>\n",
       "      <td>0.000000</td>\n",
       "      <td>2.226195</td>\n",
       "      <td>5</td>\n",
       "      <td>3</td>\n",
       "      <td>596</td>\n",
       "      <td>700</td>\n",
       "      <td>1.093669</td>\n",
       "      <td>0.624954</td>\n",
       "      <td>0.898394</td>\n",
       "      <td>1</td>\n",
       "    </tr>\n",
       "  </tbody>\n",
       "</table>\n",
       "</div>\n",
       "      <button class=\"colab-df-convert\" onclick=\"convertToInteractive('df-d33e13b6-5e0f-4d20-94d3-da79f9c9e07c')\"\n",
       "              title=\"Convert this dataframe to an interactive table.\"\n",
       "              style=\"display:none;\">\n",
       "        \n",
       "  <svg xmlns=\"http://www.w3.org/2000/svg\" height=\"24px\"viewBox=\"0 0 24 24\"\n",
       "       width=\"24px\">\n",
       "    <path d=\"M0 0h24v24H0V0z\" fill=\"none\"/>\n",
       "    <path d=\"M18.56 5.44l.94 2.06.94-2.06 2.06-.94-2.06-.94-.94-2.06-.94 2.06-2.06.94zm-11 1L8.5 8.5l.94-2.06 2.06-.94-2.06-.94L8.5 2.5l-.94 2.06-2.06.94zm10 10l.94 2.06.94-2.06 2.06-.94-2.06-.94-.94-2.06-.94 2.06-2.06.94z\"/><path d=\"M17.41 7.96l-1.37-1.37c-.4-.4-.92-.59-1.43-.59-.52 0-1.04.2-1.43.59L10.3 9.45l-7.72 7.72c-.78.78-.78 2.05 0 2.83L4 21.41c.39.39.9.59 1.41.59.51 0 1.02-.2 1.41-.59l7.78-7.78 2.81-2.81c.8-.78.8-2.07 0-2.86zM5.41 20L4 18.59l7.72-7.72 1.47 1.35L5.41 20z\"/>\n",
       "  </svg>\n",
       "      </button>\n",
       "      \n",
       "  <style>\n",
       "    .colab-df-container {\n",
       "      display:flex;\n",
       "      flex-wrap:wrap;\n",
       "      gap: 12px;\n",
       "    }\n",
       "\n",
       "    .colab-df-convert {\n",
       "      background-color: #E8F0FE;\n",
       "      border: none;\n",
       "      border-radius: 50%;\n",
       "      cursor: pointer;\n",
       "      display: none;\n",
       "      fill: #1967D2;\n",
       "      height: 32px;\n",
       "      padding: 0 0 0 0;\n",
       "      width: 32px;\n",
       "    }\n",
       "\n",
       "    .colab-df-convert:hover {\n",
       "      background-color: #E2EBFA;\n",
       "      box-shadow: 0px 1px 2px rgba(60, 64, 67, 0.3), 0px 1px 3px 1px rgba(60, 64, 67, 0.15);\n",
       "      fill: #174EA6;\n",
       "    }\n",
       "\n",
       "    [theme=dark] .colab-df-convert {\n",
       "      background-color: #3B4455;\n",
       "      fill: #D2E3FC;\n",
       "    }\n",
       "\n",
       "    [theme=dark] .colab-df-convert:hover {\n",
       "      background-color: #434B5C;\n",
       "      box-shadow: 0px 1px 3px 1px rgba(0, 0, 0, 0.15);\n",
       "      filter: drop-shadow(0px 1px 2px rgba(0, 0, 0, 0.3));\n",
       "      fill: #FFFFFF;\n",
       "    }\n",
       "  </style>\n",
       "\n",
       "      <script>\n",
       "        const buttonEl =\n",
       "          document.querySelector('#df-d33e13b6-5e0f-4d20-94d3-da79f9c9e07c button.colab-df-convert');\n",
       "        buttonEl.style.display =\n",
       "          google.colab.kernel.accessAllowed ? 'block' : 'none';\n",
       "\n",
       "        async function convertToInteractive(key) {\n",
       "          const element = document.querySelector('#df-d33e13b6-5e0f-4d20-94d3-da79f9c9e07c');\n",
       "          const dataTable =\n",
       "            await google.colab.kernel.invokeFunction('convertToInteractive',\n",
       "                                                     [key], {});\n",
       "          if (!dataTable) return;\n",
       "\n",
       "          const docLinkHtml = 'Like what you see? Visit the ' +\n",
       "            '<a target=\"_blank\" href=https://colab.research.google.com/notebooks/data_table.ipynb>data table notebook</a>'\n",
       "            + ' to learn more about interactive tables.';\n",
       "          element.innerHTML = '';\n",
       "          dataTable['output_type'] = 'display_data';\n",
       "          await google.colab.output.renderOutput(dataTable, element);\n",
       "          const docLink = document.createElement('div');\n",
       "          docLink.innerHTML = docLinkHtml;\n",
       "          element.appendChild(docLink);\n",
       "        }\n",
       "      </script>\n",
       "    </div>\n",
       "  </div>\n",
       "  "
      ],
      "text/plain": [
       "   pkts  bytes       dur  average_dur  stddev_dur  total_dur   min_dur  \\\n",
       "0    10   1729  6.406424     0.679473    0.544126   1.358946  0.135347   \n",
       "1    10   1604  6.405851     0.679572    0.544197   1.359144  0.135375   \n",
       "2     8   1708  6.401038     1.110847    1.110847   2.221694  0.000000   \n",
       "3     8   1462  6.400703     1.113328    1.113328   2.226655  0.000000   \n",
       "4     8   1296  6.400472     1.113098    1.113098   2.226195  0.000000   \n",
       "\n",
       "    max_dur  spkts  dpkts  sbytes  dbytes      rate     srate     drate  \\\n",
       "0  1.223599      6      4     963     766  1.404840  0.780467  0.468280   \n",
       "1  1.223769      6      4     838     766  1.404966  0.780536  0.468322   \n",
       "2  2.221694      5      3    1008     700  1.093573  0.624899  0.900214   \n",
       "3  2.226655      5      3     762     700  1.093630  0.624931  0.898208   \n",
       "4  2.226195      5      3     596     700  1.093669  0.624954  0.898394   \n",
       "\n",
       "   attack  \n",
       "0       1  \n",
       "1       1  \n",
       "2       1  \n",
       "3       1  \n",
       "4       1  "
      ]
     },
     "execution_count": 10,
     "metadata": {},
     "output_type": "execute_result"
    }
   ],
   "source": [
    "df.head()"
   ]
  },
  {
   "cell_type": "code",
   "execution_count": 11,
   "metadata": {
    "colab": {
     "base_uri": "https://localhost:8080/",
     "height": 346
    },
    "id": "gq1OUFUMmbxT",
    "outputId": "b4de97eb-6c2d-41cd-e1c1-f1ce7fd0500c"
   },
   "outputs": [
    {
     "data": {
      "text/plain": [
       "1    1926608\n",
       "0        477\n",
       "Name: attack, dtype: int64"
      ]
     },
     "execution_count": 11,
     "metadata": {},
     "output_type": "execute_result"
    },
    {
     "data": {
      "image/png": "[encoded data removed]",
      "text/plain": [
       "<Figure size 432x288 with 1 Axes>"
      ]
     },
     "metadata": {
      "needs_background": "light"
     },
     "output_type": "display_data"
    }
   ],
   "source": [
    "pd.value_counts(df['attack']).plot.bar()\n",
    "plt.title('Attack histogram')\n",
    "plt.xlabel('attack')\n",
    "plt.ylabel('Value')\n",
    "df['attack'].value_counts()"
   ]
  },
  {
   "cell_type": "code",
   "execution_count": 12,
   "metadata": {
    "id": "qD0Yxvv2qQGR"
   },
   "outputs": [],
   "source": [
    "\n",
    "def plot_roc_curve(fpr, tpr):\n",
    "    plt.plot(fpr, tpr, color='orange', label='ROC')\n",
    "    plt.plot([0, 1], [0, 1], color='darkblue', linestyle='--')\n",
    "    plt.xlabel('False Positive Rate')\n",
    "    plt.ylabel('True Positive Rate')\n",
    "    plt.title('Receiver Operating Characteristic (ROC) Curve')\n",
    "    plt.legend()\n",
    "    plt.show()\n",
    "    \n",
    "\n",
    "def classif_results(): \n",
    "  conf_mat = confusion_matrix(y_true=y_test, y_pred=y_pred)\n",
    "  print('Confusion matrix:\\n', conf_mat)\n",
    "\n",
    "  labels = ['Class 0', 'Class 1']\n",
    "  fig = plt.figure()\n",
    "  ax = fig.add_subplot(111)\n",
    "  cax = ax.matshow(conf_mat, cmap=plt.cm.Blues)\n",
    "  fig.colorbar(cax)\n",
    "  ax.set_xticklabels([''] + labels)\n",
    "  ax.set_yticklabels([''] + labels)\n",
    "  plt.xlabel('Predicted')\n",
    "  plt.ylabel('Expected')\n",
    "  plt.show()\n",
    "\n",
    "  print(\"Accuracy\", metrics.accuracy_score(y_test, y_pred))\n",
    "\n",
    "  from sklearn.metrics import classification_report\n",
    "  print(classification_report(y_test, y_pred))\n",
    "\n",
    "\n",
    "  auc = roc_auc_score(y_test, y_pred)\n",
    "  print(\"AUC Score: \")\n",
    "  print(auc)\n",
    "\n",
    "  fpr, tpr, thresholds = roc_curve(y_test, y_pred)\n",
    "  plot_roc_curve(fpr, tpr)\n"
   ]
  },
  {
   "cell_type": "code",
   "execution_count": 13,
   "metadata": {
    "id": "4I_gzBXwBJTp"
   },
   "outputs": [],
   "source": [
    "X = df.iloc[:, df.columns != 'attack']\n",
    "y = df.iloc[:, df.columns == 'attack']"
   ]
  },
  {
   "cell_type": "code",
   "execution_count": 14,
   "metadata": {
    "id": "FCCKBLFBeK98"
   },
   "outputs": [],
   "source": [
    "from sklearn.model_selection import train_test_split\n",
    "X_train, X_test, y_train, y_test = train_test_split(X, y, test_size = 0.4, random_state = 0)\n",
    "\n",
    "from sklearn.preprocessing import StandardScaler\n",
    "sc_X = StandardScaler()\n",
    "X_train = sc_X.fit_transform(X_train)\n",
    "X_test = sc_X.transform(X_test)"
   ]
  },
  {
   "cell_type": "code",
   "execution_count": 15,
   "metadata": {
    "id": "GPLDO21CTTnt"
   },
   "outputs": [],
   "source": [
    "X_train, y_train = SMOTE().fit_resample(X_train, y_train)"
   ]
  },
  {
   "cell_type": "markdown",
   "metadata": {
    "id": "WaBPuri0Sk4O"
   },
   "source": [
    "# Logistic Regression:\n"
   ]
  },
  {
   "cell_type": "code",
   "execution_count": 16,
   "metadata": {
    "colab": {
     "base_uri": "https://localhost:8080/"
    },
    "id": "ZCxyQRcQNnbB",
    "outputId": "3e770b91-737b-46cc-f74a-4365c761c0b2"
   },
   "outputs": [
    {
     "name": "stderr",
     "output_type": "stream",
     "text": [
      "/usr/local/lib/python3.7/dist-packages/sklearn/utils/validation.py:993: DataConversionWarning: A column-vector y was passed when a 1d array was expected. Please change the shape of y to (n_samples, ), for example using ravel().\n",
      "  y = column_or_1d(y, warn=True)\n",
      "/usr/local/lib/python3.7/dist-packages/sklearn/linear_model/_logistic.py:818: ConvergenceWarning: lbfgs failed to converge (status=1):\n",
      "STOP: TOTAL NO. of ITERATIONS REACHED LIMIT.\n",
      "\n",
      "Increase the number of iterations (max_iter) or scale the data as shown in:\n",
      "    https://scikit-learn.org/stable/modules/preprocessing.html\n",
      "Please also refer to the documentation for alternative solver options:\n",
      "    https://scikit-learn.org/stable/modules/linear_model.html#logistic-regression\n",
      "  extra_warning_msg=_LOGISTIC_SOLVER_CONVERGENCE_MSG,\n"
     ]
    }
   ],
   "source": [
    "from sklearn.linear_model import LogisticRegression \n",
    "classifier = LogisticRegression()\n",
    "classifier.fit(X_train,y_train)\n",
    "\n",
    "y_pred = classifier.predict(X_test)\n"
   ]
  },
  {
   "cell_type": "code",
   "execution_count": 17,
   "metadata": {
    "colab": {
     "base_uri": "https://localhost:8080/",
     "height": 825
    },
    "id": "zq3cY5zdNAij",
    "outputId": "30ca7642-21dd-4dff-8a4a-b46d8de6aace"
   },
   "outputs": [
    {
     "name": "stdout",
     "output_type": "stream",
     "text": [
      "Confusion matrix:\n",
      " [[   195      1]\n",
      " [147213 623425]]\n"
     ]
    },
    {
     "data": {
      "image/png": "[encoded data removed]",
      "text/plain": [
       "<Figure size 432x288 with 2 Axes>"
      ]
     },
     "metadata": {
      "needs_background": "light"
     },
     "output_type": "display_data"
    },
    {
     "name": "stdout",
     "output_type": "stream",
     "text": [
      "Accuracy 0.8090198408477052\n",
      "              precision    recall  f1-score   support\n",
      "\n",
      "           0       0.00      0.99      0.00       196\n",
      "           1       1.00      0.81      0.89    770638\n",
      "\n",
      "    accuracy                           0.81    770834\n",
      "   macro avg       0.50      0.90      0.45    770834\n",
      "weighted avg       1.00      0.81      0.89    770834\n",
      "\n",
      "AUC Score: \n",
      "0.9019352623860929\n"
     ]
    },
    {
     "data": {
      "image/png": "[encoded data removed]",
      "text/plain": [
       "<Figure size 432x288 with 1 Axes>"
      ]
     },
     "metadata": {
      "needs_background": "light"
     },
     "output_type": "display_data"
    }
   ],
   "source": [
    "classif_results()"
   ]
  },
  {
   "cell_type": "markdown",
   "metadata": {
    "id": "XgAdLKxwYz4a"
   },
   "source": [
    "# Decision Trees"
   ]
  },
  {
   "cell_type": "code",
   "execution_count": 18,
   "metadata": {
    "id": "u8Eq9ptJY17w"
   },
   "outputs": [],
   "source": [
    "\n",
    "from sklearn.tree import DecisionTreeClassifier\n",
    "classifier = DecisionTreeClassifier()\n",
    "classifier.fit(X_train,y_train)\n",
    "\n",
    "y_pred = classifier.predict(X_test)\n",
    "\n"
   ]
  },
  {
   "cell_type": "code",
   "execution_count": 19,
   "metadata": {
    "colab": {
     "base_uri": "https://localhost:8080/",
     "height": 825
    },
    "id": "mc1cZCHAY1-0",
    "outputId": "316366cd-5e91-48b6-d167-4fc6da6155d3"
   },
   "outputs": [
    {
     "name": "stdout",
     "output_type": "stream",
     "text": [
      "Confusion matrix:\n",
      " [[   196      0]\n",
      " [     1 770637]]\n"
     ]
    },
    {
     "data": {
      "image/png": "[encoded data removed]",
      "text/plain": [
       "<Figure size 432x288 with 2 Axes>"
      ]
     },
     "metadata": {
      "needs_background": "light"
     },
     "output_type": "display_data"
    },
    {
     "name": "stdout",
     "output_type": "stream",
     "text": [
      "Accuracy 0.9999987027038247\n",
      "              precision    recall  f1-score   support\n",
      "\n",
      "           0       0.99      1.00      1.00       196\n",
      "           1       1.00      1.00      1.00    770638\n",
      "\n",
      "    accuracy                           1.00    770834\n",
      "   macro avg       1.00      1.00      1.00    770834\n",
      "weighted avg       1.00      1.00      1.00    770834\n",
      "\n",
      "AUC Score: \n",
      "0.9999993511869386\n"
     ]
    },
    {
     "data": {
      "image/png": "[encoded data removed]",
      "text/plain": [
       "<Figure size 432x288 with 1 Axes>"
      ]
     },
     "metadata": {
      "needs_background": "light"
     },
     "output_type": "display_data"
    }
   ],
   "source": [
    "classif_results()"
   ]
  },
  {
   "cell_type": "markdown",
   "metadata": {
    "id": "F7eoKyO8gvU0"
   },
   "source": [
    "# Random Forest:"
   ]
  },
  {
   "cell_type": "code",
   "execution_count": 20,
   "metadata": {
    "colab": {
     "base_uri": "https://localhost:8080/"
    },
    "id": "v0xYdJZGgugZ",
    "outputId": "e913dcdc-020c-45b1-aea8-76bcd3980d10"
   },
   "outputs": [
    {
     "name": "stderr",
     "output_type": "stream",
     "text": [
      "/usr/local/lib/python3.7/dist-packages/ipykernel_launcher.py:4: DataConversionWarning: A column-vector y was passed when a 1d array was expected. Please change the shape of y to (n_samples,), for example using ravel().\n",
      "  after removing the cwd from sys.path.\n"
     ]
    }
   ],
   "source": [
    "\n",
    "from sklearn.ensemble import RandomForestClassifier\n",
    "classifier = RandomForestClassifier()\n",
    "classifier.fit(X_train, y_train)\n",
    "\n",
    "\n",
    "y_pred = classifier.predict(X_test)"
   ]
  },
  {
   "cell_type": "code",
   "execution_count": 21,
   "metadata": {
    "colab": {
     "base_uri": "https://localhost:8080/",
     "height": 825
    },
    "id": "SxnUXQK6gulj",
    "outputId": "aa77b81c-61d1-4ac1-b2e7-9d09565b5cca"
   },
   "outputs": [
    {
     "name": "stdout",
     "output_type": "stream",
     "text": [
      "Confusion matrix:\n",
      " [[   196      0]\n",
      " [     0 770638]]\n"
     ]
    },
    {
     "data": {
      "image/png": "[encoded data removed]",
      "text/plain": [
       "<Figure size 432x288 with 2 Axes>"
      ]
     },
     "metadata": {
      "needs_background": "light"
     },
     "output_type": "display_data"
    },
    {
     "name": "stdout",
     "output_type": "stream",
     "text": [
      "Accuracy 1.0\n",
      "              precision    recall  f1-score   support\n",
      "\n",
      "           0       1.00      1.00      1.00       196\n",
      "           1       1.00      1.00      1.00    770638\n",
      "\n",
      "    accuracy                           1.00    770834\n",
      "   macro avg       1.00      1.00      1.00    770834\n",
      "weighted avg       1.00      1.00      1.00    770834\n",
      "\n",
      "AUC Score: \n",
      "1.0\n"
     ]
    },
    {
     "data": {
      "image/png": "[encoded data removed]",
      "text/plain": [
       "<Figure size 432x288 with 1 Axes>"
      ]
     },
     "metadata": {
      "needs_background": "light"
     },
     "output_type": "display_data"
    }
   ],
   "source": [
    "classif_results()"
   ]
  },
  {
   "cell_type": "markdown",
   "metadata": {
    "id": "k3RQYB8WSSSY"
   },
   "source": [
    "# KNN"
   ]
  },
  {
   "cell_type": "code",
   "execution_count": null,
   "metadata": {
    "id": "uJNUH0aVSd4P"
   },
   "outputs": [],
   "source": [
    "\n",
    "\n",
    "from sklearn.neighbors import KNeighborsClassifier\n",
    "classifier = KNeighborsClassifier()\n",
    "classifier.fit(X_train,y_train)\n",
    "\n",
    "y_pred = classifier.predict(X_test)\n",
    "\n",
    "from sklearn.metrics import confusion_matrix\n",
    "cm = confusion_matrix(y_test,y_pred)"
   ]
  },
  {
   "cell_type": "code",
   "execution_count": null,
   "metadata": {
    "colab": {
     "base_uri": "https://localhost:8080/",
     "height": 818
    },
    "id": "UPjbK4lIV__f",
    "outputId": "0c660e3a-4de6-4d5e-c3b4-d52a2c62e10d"
   },
   "outputs": [
    {
     "name": "stdout",
     "output_type": "stream",
     "text": [
      "Confusion matrix:\n",
      " [[771554     20]\n",
      " [    23 769703]]\n"
     ]
    },
    {
     "data": {
      "image/png": "[encoded data removed]",
      "text/plain": [
       "<Figure size 432x288 with 2 Axes>"
      ]
     },
     "metadata": {
      "needs_background": "light",
      "tags": []
     },
     "output_type": "display_data"
    },
    {
     "name": "stdout",
     "output_type": "stream",
     "text": [
      "Accuracy 0.9999721014727827\n",
      "              precision    recall  f1-score   support\n",
      "\n",
      "           0       1.00      1.00      1.00    771574\n",
      "           1       1.00      1.00      1.00    769726\n",
      "\n",
      "    accuracy                           1.00   1541300\n",
      "   macro avg       1.00      1.00      1.00   1541300\n",
      "weighted avg       1.00      1.00      1.00   1541300\n",
      "\n",
      "AUC Score: \n",
      "0.9999720990989526\n"
     ]
    },
    {
     "data": {
      "image/png": "[encoded data removed]",
      "text/plain": [
       "<Figure size 432x288 with 1 Axes>"
      ]
     },
     "metadata": {
      "needs_background": "light",
      "tags": []
     },
     "output_type": "display_data"
    }
   ],
   "source": [
    "classif_results()"
   ]
  },
  {
   "cell_type": "markdown",
   "metadata": {
    "id": "Q802V5OiXG8F"
   },
   "source": [
    "# Support Vector Machines:"
   ]
  },
  {
   "cell_type": "code",
   "execution_count": 22,
   "metadata": {
    "colab": {
     "base_uri": "https://localhost:8080/"
    },
    "id": "dZB9pl0bVwwU",
    "outputId": "fc3c9125-b7ab-43aa-c2dd-1aa1b9275019"
   },
   "outputs": [
    {
     "name": "stderr",
     "output_type": "stream",
     "text": [
      "/usr/local/lib/python3.7/dist-packages/sklearn/utils/validation.py:993: DataConversionWarning: A column-vector y was passed when a 1d array was expected. Please change the shape of y to (n_samples, ), for example using ravel().\n",
      "  y = column_or_1d(y, warn=True)\n",
      "/usr/local/lib/python3.7/dist-packages/sklearn/svm/_base.py:1208: ConvergenceWarning: Liblinear failed to converge, increase the number of iterations.\n",
      "  ConvergenceWarning,\n"
     ]
    }
   ],
   "source": [
    "\n",
    "from sklearn.svm import SVC\n",
    "from sklearn.svm import LinearSVC\n",
    "classifier = LinearSVC()\n",
    "classifier.fit(X_train, y_train)\n",
    "\n",
    "\n",
    "y_pred = classifier.predict(X_test)\n",
    "\n",
    "from sklearn.metrics import confusion_matrix\n",
    "cm = confusion_matrix(y_test,y_pred)"
   ]
  },
  {
   "cell_type": "code",
   "execution_count": 23,
   "metadata": {
    "colab": {
     "base_uri": "https://localhost:8080/",
     "height": 825
    },
    "id": "rBko4G0GXaw7",
    "outputId": "b0e0b0de-0880-4e59-d324-345b0721df0a"
   },
   "outputs": [
    {
     "name": "stdout",
     "output_type": "stream",
     "text": [
      "Confusion matrix:\n",
      " [[   188      8]\n",
      " [ 68247 702391]]\n"
     ]
    },
    {
     "data": {
      "image/png": "[encoded data removed]",
      "text/plain": [
       "<Figure size 432x288 with 2 Axes>"
      ]
     },
     "metadata": {
      "needs_background": "light"
     },
     "output_type": "display_data"
    },
    {
     "name": "stdout",
     "output_type": "stream",
     "text": [
      "Accuracy 0.9114530495541193\n",
      "              precision    recall  f1-score   support\n",
      "\n",
      "           0       0.00      0.96      0.01       196\n",
      "           1       1.00      0.91      0.95    770638\n",
      "\n",
      "    accuracy                           0.91    770834\n",
      "   macro avg       0.50      0.94      0.48    770834\n",
      "weighted avg       1.00      0.91      0.95    770834\n",
      "\n",
      "AUC Score: \n",
      "0.9353122917343175\n"
     ]
    },
    {
     "data": {
      "image/png": "[encoded data removed]",
      "text/plain": [
       "<Figure size 432x288 with 1 Axes>"
      ]
     },
     "metadata": {
      "needs_background": "light"
     },
     "output_type": "display_data"
    }
   ],
   "source": [
    "classif_results()"
   ]
  },
  {
   "cell_type": "markdown",
   "metadata": {
    "id": "uC67IAVcYtOz"
   },
   "source": [
    "# Naive Bayes Classifier"
   ]
  },
  {
   "cell_type": "code",
   "execution_count": 24,
   "metadata": {
    "colab": {
     "base_uri": "https://localhost:8080/"
    },
    "id": "zBwG-YYncej7",
    "outputId": "009a5193-5d08-497a-ff42-4a8a3a988a2a"
   },
   "outputs": [
    {
     "name": "stderr",
     "output_type": "stream",
     "text": [
      "/usr/local/lib/python3.7/dist-packages/sklearn/utils/validation.py:993: DataConversionWarning: A column-vector y was passed when a 1d array was expected. Please change the shape of y to (n_samples, ), for example using ravel().\n",
      "  y = column_or_1d(y, warn=True)\n"
     ]
    }
   ],
   "source": [
    "\n",
    "from sklearn.naive_bayes import GaussianNB\n",
    "\n",
    "\n",
    "classifier = GaussianNB()\n",
    "\n",
    "\n",
    "classifier.fit(X_train, y_train)\n",
    "\n",
    "\n",
    "y_pred = classifier.predict(X_test)\n",
    "\n",
    "from sklearn.metrics import confusion_matrix\n",
    "cm = confusion_matrix(y_test,y_pred)"
   ]
  },
  {
   "cell_type": "code",
   "execution_count": 25,
   "metadata": {
    "colab": {
     "base_uri": "https://localhost:8080/",
     "height": 825
    },
    "id": "hLkdNWmZksZC",
    "outputId": "c6049465-75fa-4f20-b302-568b172893c1"
   },
   "outputs": [
    {
     "name": "stdout",
     "output_type": "stream",
     "text": [
      "Confusion matrix:\n",
      " [[    56    140]\n",
      " [   261 770377]]\n"
     ]
    },
    {
     "data": {
      "image/png": "[encoded data removed]",
      "text/plain": [
       "<Figure size 432x288 with 2 Axes>"
      ]
     },
     "metadata": {
      "needs_background": "light"
     },
     "output_type": "display_data"
    },
    {
     "name": "stdout",
     "output_type": "stream",
     "text": [
      "Accuracy 0.9994797842337001\n",
      "              precision    recall  f1-score   support\n",
      "\n",
      "           0       0.18      0.29      0.22       196\n",
      "           1       1.00      1.00      1.00    770638\n",
      "\n",
      "    accuracy                           1.00    770834\n",
      "   macro avg       0.59      0.64      0.61    770834\n",
      "weighted avg       1.00      1.00      1.00    770834\n",
      "\n",
      "AUC Score: \n",
      "0.6426878026481213\n"
     ]
    },
    {
     "data": {
      "image/png": "[encoded data removed]",
      "text/plain": [
       "<Figure size 432x288 with 1 Axes>"
      ]
     },
     "metadata": {
      "needs_background": "light"
     },
     "output_type": "display_data"
    }
   ],
   "source": [
    "classif_results()"
   ]
  },
  {
   "cell_type": "markdown",
   "metadata": {
    "id": "RFhSu26Epqrp"
   },
   "source": [
    "# Neural Network"
   ]
  },
  {
   "cell_type": "code",
   "execution_count": 26,
   "metadata": {
    "colab": {
     "base_uri": "https://localhost:8080/"
    },
    "id": "LhH1Fh49ptq6",
    "outputId": "948d200c-edfd-4cff-99ba-1701da710dc6"
   },
   "outputs": [
    {
     "name": "stdout",
     "output_type": "stream",
     "text": [
      "Epoch 1/3\n",
      "231194/231194 [==============================] - 300s 1ms/step - loss: 0.1059 - accuracy: 0.9714\n",
      "Epoch 2/3\n",
      "231194/231194 [==============================] - 306s 1ms/step - loss: 0.0914 - accuracy: 0.9766\n",
      "Epoch 3/3\n",
      "231194/231194 [==============================] - 309s 1ms/step - loss: 0.0857 - accuracy: 0.9777\n"
     ]
    }
   ],
   "source": [
    "import keras\n",
    "from keras.models import Sequential\n",
    "from keras.layers import Dense\n",
    "\n",
    "\n",
    "classifier = Sequential()\n",
    "classifier.add(Dense(units = 6, kernel_initializer = 'uniform', activation = 'relu', input_dim = 15))\n",
    "classifier.add(Dense(units = 6, kernel_initializer = 'uniform', activation = 'relu'))\n",
    "classifier.add(Dense(units = 1, kernel_initializer = 'uniform', activation = 'sigmoid'))\n",
    "classifier.compile(optimizer = 'adam', loss = 'binary_crossentropy', metrics = ['accuracy'])\n",
    "\n",
    "\n",
    "classifier.fit(X_train, y_train, batch_size = 10, epochs = 3)\n",
    "\n",
    "\n",
    "\n",
    "y_pred = classifier.predict(X_test)\n",
    "y_pred = (y_pred > 0.5)\n",
    "\n",
    "\n",
    "from sklearn.metrics import confusion_matrix\n",
    "cm = confusion_matrix(y_test, y_pred)\n"
   ]
  },
  {
   "cell_type": "code",
   "execution_count": 27,
   "metadata": {
    "colab": {
     "base_uri": "https://localhost:8080/",
     "height": 825
    },
    "id": "JoAWOUZNpvr2",
    "outputId": "3e093742-ae91-4a3a-d649-c771226de6f5"
   },
   "outputs": [
    {
     "name": "stdout",
     "output_type": "stream",
     "text": [
      "Confusion matrix:\n",
      " [[   195      1]\n",
      " [ 33789 736849]]\n"
     ]
    },
    {
     "data": {
      "image/png": "[encoded data removed]",
      "text/plain": [
       "<Figure size 432x288 with 2 Axes>"
      ]
     },
     "metadata": {
      "needs_background": "light"
     },
     "output_type": "display_data"
    },
    {
     "name": "stdout",
     "output_type": "stream",
     "text": [
      "Accuracy 0.9561643622362272\n",
      "              precision    recall  f1-score   support\n",
      "\n",
      "           0       0.01      0.99      0.01       196\n",
      "           1       1.00      0.96      0.98    770638\n",
      "\n",
      "    accuracy                           0.96    770834\n",
      "   macro avg       0.50      0.98      0.49    770834\n",
      "weighted avg       1.00      0.96      0.98    770834\n",
      "\n",
      "AUC Score: \n",
      "0.975526235060682\n"
     ]
    },
    {
     "data": {
      "image/png": "[encoded data removed]",
      "text/plain": [
       "<Figure size 432x288 with 1 Axes>"
      ]
     },
     "metadata": {
      "needs_background": "light"
     },
     "output_type": "display_data"
    }
   ],
   "source": [
    "classif_results()"
   ]
  }
 ],
 "metadata": {
  "colab": {
   "collapsed_sections": [],
   "name": "MachineLearningCLassificationWIthoutFlow.ipynb",
   "provenance": [],
   "toc_visible": true
  },
  "kernelspec": {
   "display_name": "Python 3",
   "language": "python",
   "name": "python3"
  },
  "language_info": {
   "codemirror_mode": {
    "name": "ipython",
    "version": 3
   },
   "file_extension": ".py",
   "mimetype": "text/x-python",
   "name": "python",
   "nbconvert_exporter": "python",
   "pygments_lexer": "ipython3",
   "version": "3.8.3"
  }
 },
 "nbformat": 4,
 "nbformat_minor": 1
}
